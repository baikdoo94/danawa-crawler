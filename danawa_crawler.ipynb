{
 "cells": [
  {
   "cell_type": "markdown",
   "metadata": {},
   "source": [
    "다나와에서 특정상품(젖병소독기)를 검색한 결과를 가져오는 크롤러입니다."
   ]
  },
  {
   "cell_type": "markdown",
   "metadata": {},
   "source": [
    "### 참조 코드 \n",
    " \n",
    " + 참조 코드입니다.\n",
    " + https://blog.naver.com/PostView.nhn?blogId=jaehong7719&logNo=221964071872&parentCategoryNo=&categoryNo=&viewDate=&isShowPopularPosts=false&from=postView\n",
    " + 추가"
   ]
  },
  {
   "cell_type": "code",
   "execution_count": 5,
   "metadata": {},
   "outputs": [],
   "source": [
    "import re, requests, csv\n",
    "from tqdm.notebook import tqdm\n",
    "from bs4 import BeautifulSoup\n",
    "import time\n",
    "from selenium import webdriver\n",
    "from selenium.webdriver.common.keys import Keys\n",
    "import pandas as pd"
   ]
  },
  {
   "cell_type": "code",
   "execution_count": 3,
   "metadata": {},
   "outputs": [],
   "source": [
    "#크롬드라이버가 있는곳의 경로를 chromedriver까지 써줍니다.\n",
    "driver_path = 'C:/Users/KIMBAEKDU/Downloads/chromedriver_win32 (1)/chromedriver'"
   ]
  },
  {
   "cell_type": "markdown",
   "metadata": {},
   "source": [
    "### 가격정보 크롤러 (판매중인 쇼핑몰, 할인정보)"
   ]
  },
  {
   "cell_type": "code",
   "execution_count": 18,
   "metadata": {},
   "outputs": [
    {
     "data": {
      "application/vnd.jupyter.widget-view+json": {
       "model_id": "86a84a7a4e154d95952f2acc8c26e7a0",
       "version_major": 2,
       "version_minor": 0
      },
      "text/plain": [
       "HBox(children=(FloatProgress(value=0.0, max=40.0), HTML(value='')))"
      ]
     },
     "metadata": {},
     "output_type": "display_data"
    },
    {
     "name": "stdout",
     "output_type": "stream",
     "text": [
      "\n"
     ]
    },
    {
     "data": {
      "application/vnd.jupyter.widget-view+json": {
       "model_id": "3ba83234fba8430db914dc98149de110",
       "version_major": 2,
       "version_minor": 0
      },
      "text/plain": [
       "HBox(children=(FloatProgress(value=0.0, max=36.0), HTML(value='')))"
      ]
     },
     "metadata": {},
     "output_type": "display_data"
    },
    {
     "name": "stdout",
     "output_type": "stream",
     "text": [
      "\n"
     ]
    }
   ],
   "source": [
    "##젖병소독기 검색 메인 화면 url\n",
    "url = 'http://search.danawa.com/dsearch.php?k1=%EC%A0%96%EB%B3%91%EC%86%8C%EB%8F%85%EA%B8%B0&module=goods&act=dispMain'\n",
    "\n",
    "driver = webdriver.Chrome(driver_path)#크롬드라이버 실행\n",
    "\n",
    "driver.get(url)#젖병살균기 검색 url로 이동합니다.\n",
    "time.sleep(4)#사이트 로딩시간 4초\n",
    "\n",
    "#첫화면에서는 가격비교탭 클릭, 이후에는 2페이지로 이동하는 xpath\n",
    "page_xpath =  ['//*[@id=\"productListArea\"]/div[1]/div/ul/li[2]/a',\n",
    "               '//*[@id=\"productListArea\"]/div[4]/div/div/a[2]']\n",
    "\n",
    "price_compare = [] #크롤링 데이터가 저장되는 리스트입니다.\n",
    "ap = price_compare.append\n",
    "for page in page_xpath:#페이지마다 수행합니다.\n",
    "    time.sleep(3) \n",
    "    driver.find_element_by_xpath(page).click() \n",
    "    \n",
    "    time.sleep(3)\n",
    "\n",
    "    html_list = driver.page_source #페이지 html을 가져와 BeautifulSoup로 다루기 편하게 파싱합니다.\n",
    "    soup_list = BeautifulSoup(html_list, 'html.parser')\n",
    "    \n",
    "    #해당 페이지에 나타난 여러 제품을 클릭했을때 이동하는 주소부분을 리스트로 만듭니다.\n",
    "    url_info_list = soup_list.find_all('a', {'class' : 'click_log_product_standard_title_'})\n",
    "\n",
    "    #이 제품목록 주소로 하나하나 이동하면서 크롤링합니다.\n",
    "    for url in tqdm(url_info_list):\n",
    "        url_ = re.search('http:.*?\\d\" ', str(url), re.I|re.S).group()[:-2] #html에서 주소만 남깁니다.\n",
    "        driver.get(url_)#해당제품 페이지로 이동합니다.\n",
    "        time.sleep(3)\n",
    "\n",
    "        html = driver.page_source\n",
    "        soup = BeautifulSoup(html, 'html.parser')\n",
    "        name = soup.find('h3', {'class':'prod_tit'})\n",
    "        name = re.sub('<h3.*?>','', str(name), re.I|re.S)[:-5] #제품명을 따옵니다.\n",
    "        \n",
    "        \n",
    "        try:\n",
    "            soup_ = soup.find('div', {'id':'defaultMallList'})# 상단에 노출된 광고받은 상품 제외\n",
    "            \n",
    "            soup_ = soup_.find_all('div',{'class':'diff_item'}) #각 가격정보, #일시품절상품은 이부분이 없음\n",
    "\n",
    "            for content in soup_:\n",
    "\n",
    "                price = content.find('em') #가격부분을 가져옵니다. 가격의 쉼표가 제거되지 않은 상태입니다.\n",
    "                price = re.sub('<em class.*?>', '', str(price), 0, re.I|re.S)[:-5]\n",
    "\n",
    "                try:\n",
    "                    #판매 쇼핑몰 이름을 가져옵니다.\n",
    "                    shop = content.find_all('a', {'class':'link priceCompareBuyLink'})[0]\n",
    "                    shop = re.search('<img alt.*? ', str(shop), re.I|re.S).group()[10:-2]\n",
    "                    \n",
    "                    #카드 등 할인혜택을 가져옵니다.\n",
    "                    card = content.find_all('a', {'class':'link priceCompareBuyLink'})[1]\n",
    "                    card = re.sub('<a class.*?\">', '', str(card), 0, re.I|re.S)[:-4]\n",
    "\n",
    "                except:\n",
    "                    #판매 쇼핑몰이 일반제휴몰일 경우 예외처리합니다.\n",
    "                    #카드할인정보가 공백문자열입니다.\n",
    "                    shop = '일반제휴몰'\n",
    "                    card = ''\n",
    "                #모은 정보를 딕셔너리 형태로 저장합니다.\n",
    "                ap({'name':name,\n",
    "                    'price' : price,\n",
    "                    'shop':shop,\n",
    "                    'card':card})\n",
    "        except:\n",
    "            #일시품절상품은 해당 항목이 없으므로 예외처리합니다.\n",
    "            pass\n",
    "            \n",
    "        #뒤로가기로 목록화면으로 이동합니다.\n",
    "        driver.back()\n",
    "        \n",
    "#드라이버 종료\n",
    "driver.close()\n"
   ]
  },
  {
   "cell_type": "code",
   "execution_count": 19,
   "metadata": {},
   "outputs": [
    {
     "data": {
      "text/plain": [
       "[{'name': '쁘띠엘린 모윰 젖병소독기 2세대',\n",
       "  'price': '160,790',\n",
       "  'shop': 'G마켓',\n",
       "  'card': '[KB국민/현대/신한 스마일페이 100만원 이상 결제 시 최대 20개월 무이자]모윰 [모윰] 젖병소독기 2세대 화이트'},\n",
       " {'name': '쁘띠엘린 모윰 젖병소독기 2세대',\n",
       "  'price': '160,790',\n",
       "  'shop': '옥션',\n",
       "  'card': '[KB국민/현대/신한 스마일페이 100만원 이상 결제 시 최대 20개월 무이자]젖병소독기 2세대 화이트/ 모윰'},\n",
       " {'name': '쁘띠엘린 모윰 젖병소독기 2세대',\n",
       "  'price': '160,790',\n",
       "  'shop': '옥션',\n",
       "  'card': '[KB국민/현대/신한 스마일페이 100만원 이상 결제 시 최대 20개월 무이자]젖병소독기 2세대 컬러선택/ 모윰'},\n",
       " {'name': '쁘띠엘린 모윰 젖병소독기 2세대',\n",
       "  'price': '160,790',\n",
       "  'shop': '옥션',\n",
       "  'card': '[KB국민/현대/신한 스마일페이 100만원 이상 결제 시 최대 20개월 무이자]젖병소독기 2세대 그레이/ 모윰'},\n",
       " {'name': '쁘띠엘린 모윰 젖병소독기 2세대',\n",
       "  'price': '160,790',\n",
       "  'shop': 'G마켓',\n",
       "  'card': '[KB국민/현대/신한 스마일페이 100만원 이상 결제 시 최대 20개월 무이자]모윰 [모윰] 젖병소독기 2세대 그레이'}]"
      ]
     },
     "execution_count": 19,
     "metadata": {},
     "output_type": "execute_result"
    }
   ],
   "source": [
    "#제대로 크롤링 했는지 확인\n",
    "price_compare[:5]"
   ]
  },
  {
   "cell_type": "code",
   "execution_count": 20,
   "metadata": {},
   "outputs": [
    {
     "data": {
      "text/html": [
       "<div>\n",
       "<style scoped>\n",
       "    .dataframe tbody tr th:only-of-type {\n",
       "        vertical-align: middle;\n",
       "    }\n",
       "\n",
       "    .dataframe tbody tr th {\n",
       "        vertical-align: top;\n",
       "    }\n",
       "\n",
       "    .dataframe thead th {\n",
       "        text-align: right;\n",
       "    }\n",
       "</style>\n",
       "<table border=\"1\" class=\"dataframe\">\n",
       "  <thead>\n",
       "    <tr style=\"text-align: right;\">\n",
       "      <th></th>\n",
       "      <th>name</th>\n",
       "      <th>price</th>\n",
       "      <th>shop</th>\n",
       "      <th>card</th>\n",
       "    </tr>\n",
       "  </thead>\n",
       "  <tbody>\n",
       "    <tr>\n",
       "      <th>1789</th>\n",
       "      <td>장안하이텍 소독기 젖병 홀더</td>\n",
       "      <td>2,880</td>\n",
       "      <td>인터파크</td>\n",
       "      <td>장안 소독기홀더</td>\n",
       "    </tr>\n",
       "    <tr>\n",
       "      <th>1790</th>\n",
       "      <td>비엘퓨리티 퓨리티 플러스 젖병 소독기 + 자외선 램프 2개</td>\n",
       "      <td>200,000</td>\n",
       "      <td>11번가</td>\n",
       "      <td>[삼성카드 1% 청구할인] [신한/KB국민/현대 100만원 이상 SK pay 결제 ...</td>\n",
       "    </tr>\n",
       "    <tr>\n",
       "      <th>1791</th>\n",
       "      <td>카리스 자외선 젖병 살균기 KRS-401T</td>\n",
       "      <td>685,300</td>\n",
       "      <td>인터파크</td>\n",
       "      <td>젖병살균기 KRS-401T 자외선젖병살균기 젖병소독기</td>\n",
       "    </tr>\n",
       "    <tr>\n",
       "      <th>1792</th>\n",
       "      <td>에스티전자 해님 BASIC 3세대 젖병 소독기</td>\n",
       "      <td>187,000</td>\n",
       "      <td>티몬</td>\n",
       "      <td>[해님베이비] 3세대 BASIC 해님 젖병소독기 아기있는집엔 필수</td>\n",
       "    </tr>\n",
       "    <tr>\n",
       "      <th>1793</th>\n",
       "      <td>메델라 퀵클린 마이크로 스팀백 5매</td>\n",
       "      <td>26,190</td>\n",
       "      <td>옥션</td>\n",
       "      <td>[KB국민/현대/신한 스마일페이 100만원 이상 결제 시 최대 20개월 무이자]메델...</td>\n",
       "    </tr>\n",
       "  </tbody>\n",
       "</table>\n",
       "</div>"
      ],
      "text/plain": [
       "                                  name    price  shop  \\\n",
       "1789                   장안하이텍 소독기 젖병 홀더    2,880  인터파크   \n",
       "1790  비엘퓨리티 퓨리티 플러스 젖병 소독기 + 자외선 램프 2개  200,000  11번가   \n",
       "1791           카리스 자외선 젖병 살균기 KRS-401T  685,300  인터파크   \n",
       "1792         에스티전자 해님 BASIC 3세대 젖병 소독기  187,000    티몬   \n",
       "1793               메델라 퀵클린 마이크로 스팀백 5매   26,190    옥션   \n",
       "\n",
       "                                                   card  \n",
       "1789                                           장안 소독기홀더  \n",
       "1790  [삼성카드 1% 청구할인] [신한/KB국민/현대 100만원 이상 SK pay 결제 ...  \n",
       "1791                      젖병살균기 KRS-401T 자외선젖병살균기 젖병소독기  \n",
       "1792               [해님베이비] 3세대 BASIC 해님 젖병소독기 아기있는집엔 필수  \n",
       "1793  [KB국민/현대/신한 스마일페이 100만원 이상 결제 시 최대 20개월 무이자]메델...  "
      ]
     },
     "execution_count": 20,
     "metadata": {},
     "output_type": "execute_result"
    }
   ],
   "source": [
    "price_compare = pd.DataFrame(price_compare)\n",
    "price_compare.tail()"
   ]
  },
  {
   "cell_type": "code",
   "execution_count": 21,
   "metadata": {},
   "outputs": [
    {
     "data": {
      "text/plain": [
       "(1794, 4)"
      ]
     },
     "execution_count": 21,
     "metadata": {},
     "output_type": "execute_result"
    }
   ],
   "source": [
    "#데이터 크기\n",
    "price_compare.shape"
   ]
  },
  {
   "cell_type": "code",
   "execution_count": 22,
   "metadata": {},
   "outputs": [],
   "source": [
    "#csv로 저장\n",
    "price_compare.to_csv('danawa_price_compare.csv')"
   ]
  },
  {
   "cell_type": "markdown",
   "metadata": {},
   "source": [
    "예외처리한 데이터가 있습니다.\n",
    "추가수정이 필요합니다.\n",
    "\n",
    "일반제휴쇼핑몰\n",
    "\n",
    "http://prod.danawa.com/info/?pcode=8054284&amp;keyword=%EC%A0%96%EB%B3%91%EC%86%8C%EB%8F%85%EA%B8%B0&amp;cate=102313 \n",
    " \n",
    "일시품절\n",
    "\n",
    "http://prod.danawa.com/info/?pcode=3218605&amp;keyword=%EC%A0%96%EB%B3%91%EC%86%8C%EB%8F%85%EA%B8%B0&amp;cate=16321165"
   ]
  },
  {
   "cell_type": "markdown",
   "metadata": {},
   "source": [
    "### 리뷰정보 크롤러"
   ]
  },
  {
   "cell_type": "code",
   "execution_count": 10,
   "metadata": {},
   "outputs": [
    {
     "name": "stdout",
     "output_type": "stream",
     "text": [
      "--------------------1페이지 입니다----------------------\n",
      "\n"
     ]
    },
    {
     "data": {
      "application/vnd.jupyter.widget-view+json": {
       "model_id": "b6b2eadebe69465092e247dee91eb5d6",
       "version_major": 2,
       "version_minor": 0
      },
      "text/plain": [
       "HBox(children=(FloatProgress(value=0.0, max=40.0), HTML(value='')))"
      ]
     },
     "metadata": {},
     "output_type": "display_data"
    },
    {
     "name": "stdout",
     "output_type": "stream",
     "text": [
      "1페이지 1번 제품입니다\n",
      "\n"
     ]
    },
    {
     "data": {
      "application/vnd.jupyter.widget-view+json": {
       "model_id": "ff65b9f02ed8427ba2a9c8f5810875f3",
       "version_major": 2,
       "version_minor": 0
      },
      "text/plain": [
       "HBox(children=(FloatProgress(value=0.0, max=1.0), HTML(value='')))"
      ]
     },
     "metadata": {},
     "output_type": "display_data"
    },
    {
     "name": "stdout",
     "output_type": "stream",
     "text": [
      "\n",
      "1페이지 2번 제품입니다\n",
      "\n"
     ]
    },
    {
     "data": {
      "application/vnd.jupyter.widget-view+json": {
       "model_id": "e4cb721dd98c49f79d3bb581aa9117b4",
       "version_major": 2,
       "version_minor": 0
      },
      "text/plain": [
       "HBox(children=(FloatProgress(value=0.0, max=25.0), HTML(value='')))"
      ]
     },
     "metadata": {},
     "output_type": "display_data"
    },
    {
     "name": "stdout",
     "output_type": "stream",
     "text": [
      "\n",
      "1페이지 3번 제품입니다\n",
      "\n"
     ]
    },
    {
     "data": {
      "application/vnd.jupyter.widget-view+json": {
       "model_id": "90d3d24a832541d38d84be80c9ac83de",
       "version_major": 2,
       "version_minor": 0
      },
      "text/plain": [
       "HBox(children=(FloatProgress(value=0.0, max=81.0), HTML(value='')))"
      ]
     },
     "metadata": {},
     "output_type": "display_data"
    },
    {
     "name": "stdout",
     "output_type": "stream",
     "text": [
      "\n",
      "1페이지 4번 제품입니다\n",
      "\n"
     ]
    },
    {
     "data": {
      "application/vnd.jupyter.widget-view+json": {
       "model_id": "18f176439e2c4931a728b783a5d1d735",
       "version_major": 2,
       "version_minor": 0
      },
      "text/plain": [
       "HBox(children=(FloatProgress(value=0.0, max=23.0), HTML(value='')))"
      ]
     },
     "metadata": {},
     "output_type": "display_data"
    },
    {
     "name": "stdout",
     "output_type": "stream",
     "text": [
      "\n",
      "1페이지 5번 제품입니다\n",
      "\n"
     ]
    },
    {
     "data": {
      "application/vnd.jupyter.widget-view+json": {
       "model_id": "65b6c1ac81ec4a87a78fb624bd89df91",
       "version_major": 2,
       "version_minor": 0
      },
      "text/plain": [
       "HBox(children=(FloatProgress(value=0.0, max=64.0), HTML(value='')))"
      ]
     },
     "metadata": {},
     "output_type": "display_data"
    },
    {
     "name": "stdout",
     "output_type": "stream",
     "text": [
      "\n",
      "1페이지 6번 제품입니다\n",
      "\n"
     ]
    },
    {
     "data": {
      "application/vnd.jupyter.widget-view+json": {
       "model_id": "2df1ecd0bf4c41fba3eac37af1302580",
       "version_major": 2,
       "version_minor": 0
      },
      "text/plain": [
       "HBox(children=(FloatProgress(value=0.0, max=2.0), HTML(value='')))"
      ]
     },
     "metadata": {},
     "output_type": "display_data"
    },
    {
     "name": "stdout",
     "output_type": "stream",
     "text": [
      "\n",
      "1페이지 7번 제품입니다\n",
      "\n"
     ]
    },
    {
     "data": {
      "application/vnd.jupyter.widget-view+json": {
       "model_id": "608239ecce8045cdb2f98981afc6cf8a",
       "version_major": 2,
       "version_minor": 0
      },
      "text/plain": [
       "HBox(children=(FloatProgress(value=0.0, max=109.0), HTML(value='')))"
      ]
     },
     "metadata": {},
     "output_type": "display_data"
    },
    {
     "name": "stdout",
     "output_type": "stream",
     "text": [
      "\n",
      "1페이지 8번 제품입니다\n",
      "\n"
     ]
    },
    {
     "data": {
      "application/vnd.jupyter.widget-view+json": {
       "model_id": "915d9aa704d442a5835228d934a0153f",
       "version_major": 2,
       "version_minor": 0
      },
      "text/plain": [
       "HBox(children=(FloatProgress(value=0.0, max=3.0), HTML(value='')))"
      ]
     },
     "metadata": {},
     "output_type": "display_data"
    },
    {
     "name": "stdout",
     "output_type": "stream",
     "text": [
      "\n",
      "1페이지 9번 제품입니다\n",
      "\n"
     ]
    },
    {
     "data": {
      "application/vnd.jupyter.widget-view+json": {
       "model_id": "22a731d5e2184b9e8cabf6a3c5fb7b84",
       "version_major": 2,
       "version_minor": 0
      },
      "text/plain": [
       "HBox(children=(FloatProgress(value=0.0, max=4.0), HTML(value='')))"
      ]
     },
     "metadata": {},
     "output_type": "display_data"
    },
    {
     "name": "stdout",
     "output_type": "stream",
     "text": [
      "\n",
      "1페이지 10번 제품입니다\n",
      "\n"
     ]
    },
    {
     "data": {
      "application/vnd.jupyter.widget-view+json": {
       "model_id": "b06474e5205a4a78b879411d10faa46d",
       "version_major": 2,
       "version_minor": 0
      },
      "text/plain": [
       "HBox(children=(FloatProgress(value=0.0, max=6.0), HTML(value='')))"
      ]
     },
     "metadata": {},
     "output_type": "display_data"
    },
    {
     "name": "stdout",
     "output_type": "stream",
     "text": [
      "\n",
      "1페이지 11번 제품입니다\n",
      "\n"
     ]
    },
    {
     "data": {
      "application/vnd.jupyter.widget-view+json": {
       "model_id": "97517e6fe92448f281f6db65997f5a5f",
       "version_major": 2,
       "version_minor": 0
      },
      "text/plain": [
       "HBox(children=(FloatProgress(value=0.0, max=2.0), HTML(value='')))"
      ]
     },
     "metadata": {},
     "output_type": "display_data"
    },
    {
     "name": "stdout",
     "output_type": "stream",
     "text": [
      "\n",
      "1페이지 12번 제품입니다\n",
      "\n"
     ]
    },
    {
     "data": {
      "application/vnd.jupyter.widget-view+json": {
       "model_id": "0d53ef95694d40fda71fa70f4469efb3",
       "version_major": 2,
       "version_minor": 0
      },
      "text/plain": [
       "HBox(children=(FloatProgress(value=0.0, max=8.0), HTML(value='')))"
      ]
     },
     "metadata": {},
     "output_type": "display_data"
    },
    {
     "name": "stdout",
     "output_type": "stream",
     "text": [
      "\n",
      "1페이지 13번 제품입니다\n",
      "\n"
     ]
    },
    {
     "data": {
      "application/vnd.jupyter.widget-view+json": {
       "model_id": "857bcf69b85c4bbeb41e2d1349b31734",
       "version_major": 2,
       "version_minor": 0
      },
      "text/plain": [
       "HBox(children=(FloatProgress(value=0.0, max=1.0), HTML(value='')))"
      ]
     },
     "metadata": {},
     "output_type": "display_data"
    },
    {
     "name": "stdout",
     "output_type": "stream",
     "text": [
      "\n",
      "1페이지 14번 제품입니다\n",
      "\n"
     ]
    },
    {
     "data": {
      "application/vnd.jupyter.widget-view+json": {
       "model_id": "bc319632bc464cd5b0001d8db267dab8",
       "version_major": 2,
       "version_minor": 0
      },
      "text/plain": [
       "HBox(children=(FloatProgress(value=0.0, max=62.0), HTML(value='')))"
      ]
     },
     "metadata": {},
     "output_type": "display_data"
    },
    {
     "name": "stdout",
     "output_type": "stream",
     "text": [
      "\n",
      "1페이지 15번 제품입니다\n",
      "\n"
     ]
    },
    {
     "data": {
      "application/vnd.jupyter.widget-view+json": {
       "model_id": "6eaafe1657274fb9bd375f02142ea170",
       "version_major": 2,
       "version_minor": 0
      },
      "text/plain": [
       "HBox(children=(FloatProgress(value=0.0, max=1.0), HTML(value='')))"
      ]
     },
     "metadata": {},
     "output_type": "display_data"
    },
    {
     "name": "stdout",
     "output_type": "stream",
     "text": [
      "\n",
      "1페이지 16번 제품입니다\n",
      "\n"
     ]
    },
    {
     "data": {
      "application/vnd.jupyter.widget-view+json": {
       "model_id": "44b23ae8b26f4974a739b4f085c9f0f0",
       "version_major": 2,
       "version_minor": 0
      },
      "text/plain": [
       "HBox(children=(FloatProgress(value=0.0, max=2.0), HTML(value='')))"
      ]
     },
     "metadata": {},
     "output_type": "display_data"
    },
    {
     "name": "stdout",
     "output_type": "stream",
     "text": [
      "\n",
      "1페이지 17번 제품입니다\n",
      "\n"
     ]
    },
    {
     "data": {
      "application/vnd.jupyter.widget-view+json": {
       "model_id": "1c4e69cc919840c8b076325985f5c7f7",
       "version_major": 2,
       "version_minor": 0
      },
      "text/plain": [
       "HBox(children=(FloatProgress(value=0.0, max=1.0), HTML(value='')))"
      ]
     },
     "metadata": {},
     "output_type": "display_data"
    },
    {
     "name": "stdout",
     "output_type": "stream",
     "text": [
      "\n",
      "1페이지 18번 제품입니다\n",
      "\n"
     ]
    },
    {
     "data": {
      "application/vnd.jupyter.widget-view+json": {
       "model_id": "3d5195071782490e8a2ad66ed56736e1",
       "version_major": 2,
       "version_minor": 0
      },
      "text/plain": [
       "HBox(children=(FloatProgress(value=0.0, max=16.0), HTML(value='')))"
      ]
     },
     "metadata": {},
     "output_type": "display_data"
    },
    {
     "name": "stdout",
     "output_type": "stream",
     "text": [
      "\n",
      "1페이지 19번 제품입니다\n",
      "\n"
     ]
    },
    {
     "data": {
      "application/vnd.jupyter.widget-view+json": {
       "model_id": "336e7328c60244498b6c491929454b3a",
       "version_major": 2,
       "version_minor": 0
      },
      "text/plain": [
       "HBox(children=(FloatProgress(value=0.0, max=159.0), HTML(value='')))"
      ]
     },
     "metadata": {},
     "output_type": "display_data"
    },
    {
     "name": "stdout",
     "output_type": "stream",
     "text": [
      "\n",
      "1페이지 20번 제품입니다\n",
      "\n"
     ]
    },
    {
     "data": {
      "application/vnd.jupyter.widget-view+json": {
       "model_id": "8f3312bfd6cd4f6fabc351a3c5c6030c",
       "version_major": 2,
       "version_minor": 0
      },
      "text/plain": [
       "HBox(children=(FloatProgress(value=0.0, max=88.0), HTML(value='')))"
      ]
     },
     "metadata": {},
     "output_type": "display_data"
    },
    {
     "name": "stdout",
     "output_type": "stream",
     "text": [
      "\n",
      "1페이지 21번 제품입니다\n",
      "\n"
     ]
    },
    {
     "data": {
      "application/vnd.jupyter.widget-view+json": {
       "model_id": "94816603344d49a9a7b415d823da255b",
       "version_major": 2,
       "version_minor": 0
      },
      "text/plain": [
       "HBox(children=(FloatProgress(value=0.0, max=7.0), HTML(value='')))"
      ]
     },
     "metadata": {},
     "output_type": "display_data"
    },
    {
     "name": "stdout",
     "output_type": "stream",
     "text": [
      "\n",
      "1페이지 22번 제품입니다\n",
      "\n"
     ]
    },
    {
     "data": {
      "application/vnd.jupyter.widget-view+json": {
       "model_id": "a7484805a7c240d59957f8dacdd8cc8e",
       "version_major": 2,
       "version_minor": 0
      },
      "text/plain": [
       "HBox(children=(FloatProgress(value=0.0, max=5.0), HTML(value='')))"
      ]
     },
     "metadata": {},
     "output_type": "display_data"
    },
    {
     "name": "stdout",
     "output_type": "stream",
     "text": [
      "\n",
      "1페이지 23번 제품입니다\n",
      "\n"
     ]
    },
    {
     "data": {
      "application/vnd.jupyter.widget-view+json": {
       "model_id": "06c247676e0e4f9f8239336092b24702",
       "version_major": 2,
       "version_minor": 0
      },
      "text/plain": [
       "HBox(children=(FloatProgress(value=0.0, max=21.0), HTML(value='')))"
      ]
     },
     "metadata": {},
     "output_type": "display_data"
    },
    {
     "name": "stdout",
     "output_type": "stream",
     "text": [
      "\n",
      "1페이지 24번 제품입니다\n",
      "\n",
      "이 상품은 리뷰가 없습니다\n",
      "1페이지 25번 제품입니다\n",
      "\n"
     ]
    },
    {
     "data": {
      "application/vnd.jupyter.widget-view+json": {
       "model_id": "38eb6aaaf6534ff1bf0796023ba16b4b",
       "version_major": 2,
       "version_minor": 0
      },
      "text/plain": [
       "HBox(children=(FloatProgress(value=0.0, max=507.0), HTML(value='')))"
      ]
     },
     "metadata": {},
     "output_type": "display_data"
    },
    {
     "name": "stdout",
     "output_type": "stream",
     "text": [
      "\n",
      "1페이지 26번 제품입니다\n",
      "\n"
     ]
    },
    {
     "data": {
      "application/vnd.jupyter.widget-view+json": {
       "model_id": "d11e4f764bce49cca00b4860da19b7f7",
       "version_major": 2,
       "version_minor": 0
      },
      "text/plain": [
       "HBox(children=(FloatProgress(value=0.0, max=1.0), HTML(value='')))"
      ]
     },
     "metadata": {},
     "output_type": "display_data"
    },
    {
     "name": "stdout",
     "output_type": "stream",
     "text": [
      "\n",
      "1페이지 27번 제품입니다\n",
      "\n"
     ]
    },
    {
     "data": {
      "application/vnd.jupyter.widget-view+json": {
       "model_id": "8b03bc7e795345219f3da2477839d243",
       "version_major": 2,
       "version_minor": 0
      },
      "text/plain": [
       "HBox(children=(FloatProgress(value=0.0, max=4.0), HTML(value='')))"
      ]
     },
     "metadata": {},
     "output_type": "display_data"
    },
    {
     "name": "stdout",
     "output_type": "stream",
     "text": [
      "\n",
      "1페이지 28번 제품입니다\n",
      "\n"
     ]
    },
    {
     "data": {
      "application/vnd.jupyter.widget-view+json": {
       "model_id": "cbdbb2e5a67e4f57a35e2689c1a936ec",
       "version_major": 2,
       "version_minor": 0
      },
      "text/plain": [
       "HBox(children=(FloatProgress(value=0.0, max=2.0), HTML(value='')))"
      ]
     },
     "metadata": {},
     "output_type": "display_data"
    },
    {
     "name": "stdout",
     "output_type": "stream",
     "text": [
      "\n",
      "1페이지 29번 제품입니다\n",
      "\n"
     ]
    },
    {
     "data": {
      "application/vnd.jupyter.widget-view+json": {
       "model_id": "5ca4cb3a646c46eab066f0e43803d809",
       "version_major": 2,
       "version_minor": 0
      },
      "text/plain": [
       "HBox(children=(FloatProgress(value=0.0, max=1.0), HTML(value='')))"
      ]
     },
     "metadata": {},
     "output_type": "display_data"
    },
    {
     "name": "stdout",
     "output_type": "stream",
     "text": [
      "\n",
      "1페이지 30번 제품입니다\n",
      "\n",
      "이 상품은 리뷰가 없습니다\n",
      "1페이지 31번 제품입니다\n",
      "\n"
     ]
    },
    {
     "data": {
      "application/vnd.jupyter.widget-view+json": {
       "model_id": "499881a547ae4134a7816b70c9ad6bcd",
       "version_major": 2,
       "version_minor": 0
      },
      "text/plain": [
       "HBox(children=(FloatProgress(value=0.0, max=10.0), HTML(value='')))"
      ]
     },
     "metadata": {},
     "output_type": "display_data"
    },
    {
     "name": "stdout",
     "output_type": "stream",
     "text": [
      "\n",
      "1페이지 32번 제품입니다\n",
      "\n"
     ]
    },
    {
     "data": {
      "application/vnd.jupyter.widget-view+json": {
       "model_id": "7407588791c84b6db33680395c2582d4",
       "version_major": 2,
       "version_minor": 0
      },
      "text/plain": [
       "HBox(children=(FloatProgress(value=0.0, max=44.0), HTML(value='')))"
      ]
     },
     "metadata": {},
     "output_type": "display_data"
    },
    {
     "name": "stdout",
     "output_type": "stream",
     "text": [
      "\n",
      "1페이지 33번 제품입니다\n",
      "\n"
     ]
    },
    {
     "data": {
      "application/vnd.jupyter.widget-view+json": {
       "model_id": "d0106c75f7ad4405a9f84eece24bb4f6",
       "version_major": 2,
       "version_minor": 0
      },
      "text/plain": [
       "HBox(children=(FloatProgress(value=0.0, max=7.0), HTML(value='')))"
      ]
     },
     "metadata": {},
     "output_type": "display_data"
    },
    {
     "name": "stdout",
     "output_type": "stream",
     "text": [
      "\n",
      "1페이지 34번 제품입니다\n",
      "\n"
     ]
    },
    {
     "data": {
      "application/vnd.jupyter.widget-view+json": {
       "model_id": "564072c20027497e8fa4311ee3cf4631",
       "version_major": 2,
       "version_minor": 0
      },
      "text/plain": [
       "HBox(children=(FloatProgress(value=0.0, max=1.0), HTML(value='')))"
      ]
     },
     "metadata": {},
     "output_type": "display_data"
    },
    {
     "name": "stdout",
     "output_type": "stream",
     "text": [
      "\n",
      "1페이지 35번 제품입니다\n",
      "\n"
     ]
    },
    {
     "data": {
      "application/vnd.jupyter.widget-view+json": {
       "model_id": "d9a7ea45cc30433f944a4b26bd260b76",
       "version_major": 2,
       "version_minor": 0
      },
      "text/plain": [
       "HBox(children=(FloatProgress(value=0.0, max=1.0), HTML(value='')))"
      ]
     },
     "metadata": {},
     "output_type": "display_data"
    },
    {
     "name": "stdout",
     "output_type": "stream",
     "text": [
      "\n",
      "1페이지 36번 제품입니다\n",
      "\n"
     ]
    },
    {
     "data": {
      "application/vnd.jupyter.widget-view+json": {
       "model_id": "2e7467b9d3f84b6d898e177ce8e0f377",
       "version_major": 2,
       "version_minor": 0
      },
      "text/plain": [
       "HBox(children=(FloatProgress(value=0.0, max=1.0), HTML(value='')))"
      ]
     },
     "metadata": {},
     "output_type": "display_data"
    },
    {
     "name": "stdout",
     "output_type": "stream",
     "text": [
      "\n",
      "1페이지 37번 제품입니다\n",
      "\n"
     ]
    },
    {
     "data": {
      "application/vnd.jupyter.widget-view+json": {
       "model_id": "abc3c02af70446e7a976e9d4794dc1ce",
       "version_major": 2,
       "version_minor": 0
      },
      "text/plain": [
       "HBox(children=(FloatProgress(value=0.0, max=2.0), HTML(value='')))"
      ]
     },
     "metadata": {},
     "output_type": "display_data"
    },
    {
     "name": "stdout",
     "output_type": "stream",
     "text": [
      "\n",
      "1페이지 38번 제품입니다\n",
      "\n"
     ]
    },
    {
     "data": {
      "application/vnd.jupyter.widget-view+json": {
       "model_id": "52a156f1a9ea4ab88f0bbf04ddf74794",
       "version_major": 2,
       "version_minor": 0
      },
      "text/plain": [
       "HBox(children=(FloatProgress(value=0.0, max=1.0), HTML(value='')))"
      ]
     },
     "metadata": {},
     "output_type": "display_data"
    },
    {
     "name": "stdout",
     "output_type": "stream",
     "text": [
      "\n",
      "1페이지 39번 제품입니다\n",
      "\n"
     ]
    },
    {
     "data": {
      "application/vnd.jupyter.widget-view+json": {
       "model_id": "72e55b4e8e2d4ddf9c074143c17fd860",
       "version_major": 2,
       "version_minor": 0
      },
      "text/plain": [
       "HBox(children=(FloatProgress(value=0.0, max=4.0), HTML(value='')))"
      ]
     },
     "metadata": {},
     "output_type": "display_data"
    },
    {
     "name": "stdout",
     "output_type": "stream",
     "text": [
      "\n",
      "1페이지 40번 제품입니다\n",
      "\n",
      "이 상품은 리뷰가 없습니다\n",
      "\n",
      "--------------------2페이지 입니다----------------------\n",
      "\n"
     ]
    },
    {
     "data": {
      "application/vnd.jupyter.widget-view+json": {
       "model_id": "bb3cffa845354980a29904a67b86a40b",
       "version_major": 2,
       "version_minor": 0
      },
      "text/plain": [
       "HBox(children=(FloatProgress(value=0.0, max=36.0), HTML(value='')))"
      ]
     },
     "metadata": {},
     "output_type": "display_data"
    },
    {
     "name": "stdout",
     "output_type": "stream",
     "text": [
      "2페이지 1번 제품입니다\n",
      "\n"
     ]
    },
    {
     "data": {
      "application/vnd.jupyter.widget-view+json": {
       "model_id": "5803a11c8b5c488199ed60bed59539ff",
       "version_major": 2,
       "version_minor": 0
      },
      "text/plain": [
       "HBox(children=(FloatProgress(value=0.0, max=1.0), HTML(value='')))"
      ]
     },
     "metadata": {},
     "output_type": "display_data"
    },
    {
     "name": "stdout",
     "output_type": "stream",
     "text": [
      "\n",
      "2페이지 2번 제품입니다\n",
      "\n",
      "이 상품은 리뷰가 없습니다\n",
      "2페이지 3번 제품입니다\n",
      "\n"
     ]
    },
    {
     "data": {
      "application/vnd.jupyter.widget-view+json": {
       "model_id": "b2e3fcf07d6e4373889d30b96f51297f",
       "version_major": 2,
       "version_minor": 0
      },
      "text/plain": [
       "HBox(children=(FloatProgress(value=0.0, max=1.0), HTML(value='')))"
      ]
     },
     "metadata": {},
     "output_type": "display_data"
    },
    {
     "name": "stdout",
     "output_type": "stream",
     "text": [
      "\n",
      "2페이지 4번 제품입니다\n",
      "\n"
     ]
    },
    {
     "data": {
      "application/vnd.jupyter.widget-view+json": {
       "model_id": "1f21feaecac94e16a6eefaab6beb364c",
       "version_major": 2,
       "version_minor": 0
      },
      "text/plain": [
       "HBox(children=(FloatProgress(value=0.0, max=1.0), HTML(value='')))"
      ]
     },
     "metadata": {},
     "output_type": "display_data"
    },
    {
     "name": "stdout",
     "output_type": "stream",
     "text": [
      "\n",
      "2페이지 5번 제품입니다\n",
      "\n"
     ]
    },
    {
     "data": {
      "application/vnd.jupyter.widget-view+json": {
       "model_id": "7270f9efee8848f2aed724c557835486",
       "version_major": 2,
       "version_minor": 0
      },
      "text/plain": [
       "HBox(children=(FloatProgress(value=0.0, max=23.0), HTML(value='')))"
      ]
     },
     "metadata": {},
     "output_type": "display_data"
    },
    {
     "name": "stdout",
     "output_type": "stream",
     "text": [
      "\n",
      "2페이지 6번 제품입니다\n",
      "\n"
     ]
    },
    {
     "data": {
      "application/vnd.jupyter.widget-view+json": {
       "model_id": "58ae785ba0d849d58c2db3e72032800c",
       "version_major": 2,
       "version_minor": 0
      },
      "text/plain": [
       "HBox(children=(FloatProgress(value=0.0, max=1.0), HTML(value='')))"
      ]
     },
     "metadata": {},
     "output_type": "display_data"
    },
    {
     "name": "stdout",
     "output_type": "stream",
     "text": [
      "\n",
      "2페이지 7번 제품입니다\n",
      "\n"
     ]
    },
    {
     "data": {
      "application/vnd.jupyter.widget-view+json": {
       "model_id": "76659e00ef624cc382c054fdd1a0ee36",
       "version_major": 2,
       "version_minor": 0
      },
      "text/plain": [
       "HBox(children=(FloatProgress(value=0.0, max=4.0), HTML(value='')))"
      ]
     },
     "metadata": {},
     "output_type": "display_data"
    },
    {
     "name": "stdout",
     "output_type": "stream",
     "text": [
      "\n",
      "2페이지 8번 제품입니다\n",
      "\n"
     ]
    },
    {
     "data": {
      "application/vnd.jupyter.widget-view+json": {
       "model_id": "a843f58e30404af3b269288214357b5b",
       "version_major": 2,
       "version_minor": 0
      },
      "text/plain": [
       "HBox(children=(FloatProgress(value=0.0, max=2.0), HTML(value='')))"
      ]
     },
     "metadata": {},
     "output_type": "display_data"
    },
    {
     "name": "stdout",
     "output_type": "stream",
     "text": [
      "\n",
      "2페이지 9번 제품입니다\n",
      "\n"
     ]
    },
    {
     "data": {
      "application/vnd.jupyter.widget-view+json": {
       "model_id": "e48c43337b444e9aa74fa9deea3a127b",
       "version_major": 2,
       "version_minor": 0
      },
      "text/plain": [
       "HBox(children=(FloatProgress(value=0.0, max=1.0), HTML(value='')))"
      ]
     },
     "metadata": {},
     "output_type": "display_data"
    },
    {
     "name": "stdout",
     "output_type": "stream",
     "text": [
      "\n",
      "2페이지 10번 제품입니다\n",
      "\n"
     ]
    },
    {
     "data": {
      "application/vnd.jupyter.widget-view+json": {
       "model_id": "5529ec4ede744622821bf21a7e35b9a8",
       "version_major": 2,
       "version_minor": 0
      },
      "text/plain": [
       "HBox(children=(FloatProgress(value=0.0, max=1.0), HTML(value='')))"
      ]
     },
     "metadata": {},
     "output_type": "display_data"
    },
    {
     "name": "stdout",
     "output_type": "stream",
     "text": [
      "\n",
      "2페이지 11번 제품입니다\n",
      "\n"
     ]
    },
    {
     "data": {
      "application/vnd.jupyter.widget-view+json": {
       "model_id": "158ebe4cff0e4d459b1ac40d39a54657",
       "version_major": 2,
       "version_minor": 0
      },
      "text/plain": [
       "HBox(children=(FloatProgress(value=0.0, max=1.0), HTML(value='')))"
      ]
     },
     "metadata": {},
     "output_type": "display_data"
    },
    {
     "name": "stdout",
     "output_type": "stream",
     "text": [
      "\n",
      "2페이지 12번 제품입니다\n",
      "\n"
     ]
    },
    {
     "data": {
      "application/vnd.jupyter.widget-view+json": {
       "model_id": "7ba6ec9d27874f31b4883eb501f41ddb",
       "version_major": 2,
       "version_minor": 0
      },
      "text/plain": [
       "HBox(children=(FloatProgress(value=0.0, max=1.0), HTML(value='')))"
      ]
     },
     "metadata": {},
     "output_type": "display_data"
    },
    {
     "name": "stdout",
     "output_type": "stream",
     "text": [
      "\n",
      "2페이지 13번 제품입니다\n",
      "\n"
     ]
    },
    {
     "data": {
      "application/vnd.jupyter.widget-view+json": {
       "model_id": "5331f16317004ea58a8266795e003759",
       "version_major": 2,
       "version_minor": 0
      },
      "text/plain": [
       "HBox(children=(FloatProgress(value=0.0, max=1.0), HTML(value='')))"
      ]
     },
     "metadata": {},
     "output_type": "display_data"
    },
    {
     "name": "stdout",
     "output_type": "stream",
     "text": [
      "\n",
      "2페이지 14번 제품입니다\n",
      "\n"
     ]
    },
    {
     "data": {
      "application/vnd.jupyter.widget-view+json": {
       "model_id": "d02d445024e6430db44eb2618f3849db",
       "version_major": 2,
       "version_minor": 0
      },
      "text/plain": [
       "HBox(children=(FloatProgress(value=0.0, max=1.0), HTML(value='')))"
      ]
     },
     "metadata": {},
     "output_type": "display_data"
    },
    {
     "name": "stdout",
     "output_type": "stream",
     "text": [
      "\n",
      "2페이지 15번 제품입니다\n",
      "\n"
     ]
    },
    {
     "data": {
      "application/vnd.jupyter.widget-view+json": {
       "model_id": "1045cb2c0af9439d82832645abd8ffc7",
       "version_major": 2,
       "version_minor": 0
      },
      "text/plain": [
       "HBox(children=(FloatProgress(value=0.0, max=3.0), HTML(value='')))"
      ]
     },
     "metadata": {},
     "output_type": "display_data"
    },
    {
     "name": "stdout",
     "output_type": "stream",
     "text": [
      "\n",
      "2페이지 16번 제품입니다\n",
      "\n"
     ]
    },
    {
     "data": {
      "application/vnd.jupyter.widget-view+json": {
       "model_id": "99a87bfb91314ceca4c45e782bc2278f",
       "version_major": 2,
       "version_minor": 0
      },
      "text/plain": [
       "HBox(children=(FloatProgress(value=0.0, max=1.0), HTML(value='')))"
      ]
     },
     "metadata": {},
     "output_type": "display_data"
    },
    {
     "name": "stdout",
     "output_type": "stream",
     "text": [
      "\n",
      "2페이지 17번 제품입니다\n",
      "\n"
     ]
    },
    {
     "data": {
      "application/vnd.jupyter.widget-view+json": {
       "model_id": "b0d5c018897147d1a9b26d06a777297b",
       "version_major": 2,
       "version_minor": 0
      },
      "text/plain": [
       "HBox(children=(FloatProgress(value=0.0, max=1.0), HTML(value='')))"
      ]
     },
     "metadata": {},
     "output_type": "display_data"
    },
    {
     "name": "stdout",
     "output_type": "stream",
     "text": [
      "\n",
      "2페이지 18번 제품입니다\n",
      "\n"
     ]
    },
    {
     "data": {
      "application/vnd.jupyter.widget-view+json": {
       "model_id": "f709d5cc24fa436d9fdbbf32249c1ddf",
       "version_major": 2,
       "version_minor": 0
      },
      "text/plain": [
       "HBox(children=(FloatProgress(value=0.0, max=24.0), HTML(value='')))"
      ]
     },
     "metadata": {},
     "output_type": "display_data"
    },
    {
     "name": "stdout",
     "output_type": "stream",
     "text": [
      "\n",
      "2페이지 19번 제품입니다\n",
      "\n"
     ]
    },
    {
     "data": {
      "application/vnd.jupyter.widget-view+json": {
       "model_id": "d8bc184cb8ad41d7bd5eb3fafe648f8f",
       "version_major": 2,
       "version_minor": 0
      },
      "text/plain": [
       "HBox(children=(FloatProgress(value=0.0, max=1.0), HTML(value='')))"
      ]
     },
     "metadata": {},
     "output_type": "display_data"
    },
    {
     "name": "stdout",
     "output_type": "stream",
     "text": [
      "\n",
      "2페이지 20번 제품입니다\n",
      "\n",
      "이 상품은 리뷰가 없습니다\n",
      "2페이지 21번 제품입니다\n",
      "\n"
     ]
    },
    {
     "data": {
      "application/vnd.jupyter.widget-view+json": {
       "model_id": "387e0b8865664ae6aee3baa5ebabc99a",
       "version_major": 2,
       "version_minor": 0
      },
      "text/plain": [
       "HBox(children=(FloatProgress(value=0.0, max=58.0), HTML(value='')))"
      ]
     },
     "metadata": {},
     "output_type": "display_data"
    },
    {
     "name": "stdout",
     "output_type": "stream",
     "text": [
      "\n",
      "2페이지 22번 제품입니다\n",
      "\n"
     ]
    },
    {
     "data": {
      "application/vnd.jupyter.widget-view+json": {
       "model_id": "2a07309d354c4f8793933cde5fe57fbe",
       "version_major": 2,
       "version_minor": 0
      },
      "text/plain": [
       "HBox(children=(FloatProgress(value=0.0, max=57.0), HTML(value='')))"
      ]
     },
     "metadata": {},
     "output_type": "display_data"
    },
    {
     "name": "stdout",
     "output_type": "stream",
     "text": [
      "\n",
      "2페이지 23번 제품입니다\n",
      "\n"
     ]
    },
    {
     "data": {
      "application/vnd.jupyter.widget-view+json": {
       "model_id": "a7af91c85ccf48569755438de2d5883f",
       "version_major": 2,
       "version_minor": 0
      },
      "text/plain": [
       "HBox(children=(FloatProgress(value=0.0, max=3.0), HTML(value='')))"
      ]
     },
     "metadata": {},
     "output_type": "display_data"
    },
    {
     "name": "stdout",
     "output_type": "stream",
     "text": [
      "\n",
      "2페이지 24번 제품입니다\n",
      "\n",
      "이 상품은 리뷰가 없습니다\n",
      "2페이지 25번 제품입니다\n",
      "\n"
     ]
    },
    {
     "data": {
      "application/vnd.jupyter.widget-view+json": {
       "model_id": "028dc197fd36486c8e138f70d0b70a9e",
       "version_major": 2,
       "version_minor": 0
      },
      "text/plain": [
       "HBox(children=(FloatProgress(value=0.0, max=4.0), HTML(value='')))"
      ]
     },
     "metadata": {},
     "output_type": "display_data"
    },
    {
     "name": "stdout",
     "output_type": "stream",
     "text": [
      "\n",
      "2페이지 26번 제품입니다\n",
      "\n",
      "이 상품은 리뷰가 없습니다\n",
      "2페이지 27번 제품입니다\n",
      "\n"
     ]
    },
    {
     "data": {
      "application/vnd.jupyter.widget-view+json": {
       "model_id": "1ed63997e2204e11b41c0c24e7300928",
       "version_major": 2,
       "version_minor": 0
      },
      "text/plain": [
       "HBox(children=(FloatProgress(value=0.0, max=4.0), HTML(value='')))"
      ]
     },
     "metadata": {},
     "output_type": "display_data"
    },
    {
     "name": "stdout",
     "output_type": "stream",
     "text": [
      "\n",
      "2페이지 28번 제품입니다\n",
      "\n"
     ]
    },
    {
     "data": {
      "application/vnd.jupyter.widget-view+json": {
       "model_id": "b90fb06cc14744819d042dc7dce0d51a",
       "version_major": 2,
       "version_minor": 0
      },
      "text/plain": [
       "HBox(children=(FloatProgress(value=0.0, max=1.0), HTML(value='')))"
      ]
     },
     "metadata": {},
     "output_type": "display_data"
    },
    {
     "name": "stdout",
     "output_type": "stream",
     "text": [
      "\n",
      "2페이지 29번 제품입니다\n",
      "\n"
     ]
    },
    {
     "data": {
      "application/vnd.jupyter.widget-view+json": {
       "model_id": "104ad2e4dffc48c2a58e6eeddcff7ec2",
       "version_major": 2,
       "version_minor": 0
      },
      "text/plain": [
       "HBox(children=(FloatProgress(value=0.0, max=1.0), HTML(value='')))"
      ]
     },
     "metadata": {},
     "output_type": "display_data"
    },
    {
     "name": "stdout",
     "output_type": "stream",
     "text": [
      "\n",
      "2페이지 30번 제품입니다\n",
      "\n",
      "이 상품은 리뷰가 없습니다\n",
      "2페이지 31번 제품입니다\n",
      "\n"
     ]
    },
    {
     "data": {
      "application/vnd.jupyter.widget-view+json": {
       "model_id": "d7b386ab03df457a81ca4a9dfb029b2e",
       "version_major": 2,
       "version_minor": 0
      },
      "text/plain": [
       "HBox(children=(FloatProgress(value=0.0, max=1.0), HTML(value='')))"
      ]
     },
     "metadata": {},
     "output_type": "display_data"
    },
    {
     "name": "stdout",
     "output_type": "stream",
     "text": [
      "\n",
      "2페이지 32번 제품입니다\n",
      "\n"
     ]
    },
    {
     "data": {
      "application/vnd.jupyter.widget-view+json": {
       "model_id": "0d683835aa8f4e9090891b259d9a295d",
       "version_major": 2,
       "version_minor": 0
      },
      "text/plain": [
       "HBox(children=(FloatProgress(value=0.0, max=1.0), HTML(value='')))"
      ]
     },
     "metadata": {},
     "output_type": "display_data"
    },
    {
     "name": "stdout",
     "output_type": "stream",
     "text": [
      "\n",
      "2페이지 33번 제품입니다\n",
      "\n"
     ]
    },
    {
     "data": {
      "application/vnd.jupyter.widget-view+json": {
       "model_id": "9b1301ff5d714fa0b4892259791bb26b",
       "version_major": 2,
       "version_minor": 0
      },
      "text/plain": [
       "HBox(children=(FloatProgress(value=0.0, max=50.0), HTML(value='')))"
      ]
     },
     "metadata": {},
     "output_type": "display_data"
    },
    {
     "name": "stdout",
     "output_type": "stream",
     "text": [
      "\n",
      "2페이지 34번 제품입니다\n",
      "\n"
     ]
    },
    {
     "data": {
      "application/vnd.jupyter.widget-view+json": {
       "model_id": "8247a67710d94360af224f71259d44ca",
       "version_major": 2,
       "version_minor": 0
      },
      "text/plain": [
       "HBox(children=(FloatProgress(value=0.0, max=1.0), HTML(value='')))"
      ]
     },
     "metadata": {},
     "output_type": "display_data"
    },
    {
     "name": "stdout",
     "output_type": "stream",
     "text": [
      "\n",
      "2페이지 35번 제품입니다\n",
      "\n"
     ]
    },
    {
     "data": {
      "application/vnd.jupyter.widget-view+json": {
       "model_id": "8cb2bbd6229d4771b1b72bdfbf4f413a",
       "version_major": 2,
       "version_minor": 0
      },
      "text/plain": [
       "HBox(children=(FloatProgress(value=0.0, max=1.0), HTML(value='')))"
      ]
     },
     "metadata": {},
     "output_type": "display_data"
    },
    {
     "name": "stdout",
     "output_type": "stream",
     "text": [
      "\n",
      "2페이지 36번 제품입니다\n",
      "\n",
      "이 상품은 리뷰가 없습니다\n",
      "\n"
     ]
    }
   ],
   "source": [
    "url = 'http://search.danawa.com/dsearch.php?k1=%EC%A0%96%EB%B3%91%EC%86%8C%EB%8F%85%EA%B8%B0&module=goods&act=dispMain'\n",
    "\n",
    "driver = webdriver.Chrome(driver_path)#크롬드라이버 실행\n",
    "\n",
    "driver.get(url)#젖병살균기 검색 url로 이동합니다.\n",
    "time.sleep(3)#사이트 로딩시간 4초\n",
    "\n",
    "#첫화면에서는 가격비교탭 클릭, 이후에는 2페이지로 이동하는 xpath\n",
    "page_xpath =  ['//*[@id=\"productListArea\"]/div[1]/div/ul/li[2]/a',\n",
    "               '//*[@id=\"productListArea\"]/div[4]/div/div/a[2]']\n",
    "\n",
    "reviews = [] #리뷰가 모이는 리스트\n",
    "ap = reviews.append\n",
    "\n",
    "num1 = 0 #페이지 카운트\n",
    "\n",
    "for page in page_xpath:#페이지마다 수행합니다.\n",
    "    time.sleep(3) \n",
    "    driver.find_element_by_xpath(page).click() \n",
    "    \n",
    "    time.sleep(3)\n",
    "\n",
    "    html_list = driver.page_source #페이지 html을 가져와 BeautifulSoup로 다루기 편하게 파싱합니다.\n",
    "    soup_list = BeautifulSoup(html_list, 'html.parser')\n",
    "    \n",
    "    #해당 페이지에 나타난 여러 제품을 클릭했을때 이동하는 주소부분을 리스트로 만듭니다.\n",
    "    url_info_list = soup_list.find_all('a', {'class' : 'click_log_product_standard_title_'})\n",
    "    \n",
    "    \n",
    "    num1+=1 #페이지 카운트\n",
    "    print('--------------------'+str(num1)+'페이지 입니다----------------------\\n')\n",
    "    num2 = 0 #제품 카운트\n",
    "    \n",
    "    #이 제품목록 주소로 하나하나 이동하면서 크롤링합니다.\n",
    "    for url in tqdm(url_info_list):\n",
    "        \n",
    "        url_ = re.search('http:.*?\\d\" ', str(url), re.I|re.S).group()[:-2] #html에서 주소만 남깁니다.\n",
    "        driver.get(url_)#해당제품 페이지로 이동합니다.\n",
    "        time.sleep(3)\n",
    "\n",
    "        html = driver.page_source\n",
    "        soup = BeautifulSoup(html, 'html.parser')\n",
    "        \n",
    "        \n",
    "        #제품명을 따옵니다.\n",
    "        product_name = soup.find('h3', {'class':'prod_tit'})\n",
    "        product_name = re.sub('<h3.*?>','', str(product_name), re.I|re.S)[:-5] \n",
    "        \n",
    "    \n",
    "        #제품 카운트\n",
    "        num2+=1\n",
    "        print(str(num1)+'페이지 '+str(num2)+'번 제품입니다\\n')\n",
    "    \n",
    "        #총 리뷰 수\n",
    "        #리뷰가 있을 경우에만 아래 코드 실행\n",
    "        if bool(soup.find_all('div',{'class':'point_num'})):\n",
    "            review_count = soup.find('a',{'id':\"danawa-prodBlog-companyReview-button-tab-companyReview\"})\n",
    "            review_count = review_count.find('strong', {'class':'num_c'})\n",
    "            review_count = re.sub('<.+?>', '', str(review_count), re.I|re.S)\n",
    "            review_count = int(re.sub('[^0-9]','', review_count, re.I|re.S))\n",
    "\n",
    "\n",
    "            #총 페이지 수\n",
    "            if review_count % 10 != 0:\n",
    "                review_page = (review_count // 10) + 1\n",
    "            else:\n",
    "                review_page = (review_count // 10)\n",
    "                \n",
    "                \n",
    "            #리뷰 페이지별로 돌아가면서 실행\n",
    "            for page in tqdm(range(1, review_page+1)):\n",
    "\n",
    "                time.sleep(2)\n",
    "\n",
    "                html_for_rvw = driver.page_source\n",
    "                soup_for_rvw = BeautifulSoup(html_for_rvw, 'html.parser')\n",
    "\n",
    "\n",
    "                #해당 페이지에 표시된 리뷰들의 리스트\n",
    "                review_list = soup_for_rvw.find('ul', {'class':'rvw_list'})\n",
    "                review_list = review_list.find_all('li', {'class':'danawa-prodBlog-companyReview-clazz-more'})\n",
    "\n",
    "\n",
    "                #리뷰마다 필요한 항목을 뽑아서 딕셔너리로 저장\n",
    "                for review in review_list:\n",
    "                    rvw_star = review.find('span', {'class' :'star_mask'})\n",
    "                    rvw_star = re.sub('<.+?>', '', str(rvw_star), re.I|re.S)\n",
    "\n",
    "                    rvw_date = review.find('span', {'class' : 'date'})\n",
    "                    rvw_date = re.sub('<.+?>', '', str(rvw_date), re.I|re.S)\n",
    "\n",
    "                    rvw_mall = review.find('span', {'class' : 'mall'})\n",
    "                    rvw_mall = re.sub('<.+?>', '', str(rvw_mall), re.I|re.S)\n",
    "\n",
    "                    rvw_id = review.find('span', {'class' : 'name'})\n",
    "                    rvw_id = re.sub('<.+?>', '', str(rvw_id), re.I|re.S)\n",
    "\n",
    "                    rvw_title = review.find('p', {'class' : 'tit'})\n",
    "                    rvw_title = re.sub('<.+?>', '', str(rvw_title), re.I|re.S)\n",
    "\n",
    "                    rvw_content = review.find('div', {'class' : 'atc'})\n",
    "                    rvw_content = re.sub('<.+?>', '', str(rvw_content), re.I|re.S)\n",
    "\n",
    "\n",
    "                    #상품명, 별점, 날짜, 쇼핑몰, 아이디, 제목, 내용\n",
    "                    review_i = {'name':product_name,\n",
    "                               'star':rvw_star,\n",
    "                               'date':rvw_date,\n",
    "                               'mall':rvw_mall,\n",
    "                               'id':rvw_id,\n",
    "                               'title':rvw_title,\n",
    "                               'content':rvw_content}\n",
    "\n",
    "                    ap(review_i)\n",
    "\n",
    "\n",
    "                #페이지가 10의 배수일 경우 맨 오른쪽의 넘기기 버튼 클릭\n",
    "                if page%10 == 0: \n",
    "                    path = '//span[@class=\"point_arw_r\"]'\n",
    "                    button = driver.find_elements_by_xpath(path)[1]\n",
    "                    button.click()\n",
    "\n",
    "\n",
    "                #10의 배수가 아닌 페이지일 경우 다음 페이지로 넘기는 버튼 클릭\n",
    "                else:\n",
    "                    if page < review_page:\n",
    "                       path = '//a[@data-pagenumber=\"{}\"]'.format(page+1)\n",
    "                       button = driver.find_element_by_xpath(path)\n",
    "                       button.send_keys(Keys.ENTER)    \n",
    "                    \n",
    "                    \n",
    "                    \n",
    "        #리뷰가 없는 경우\n",
    "        else:\n",
    "            print('이 상품은 리뷰가 없습니다')\n",
    "            pass\n",
    "        \n",
    "        #뒤로가기로 목록화면으로 이동합니다.\n",
    "        driver.back()\n",
    "        \n",
    "#드라이버 종료\n",
    "driver.close()"
   ]
  },
  {
   "cell_type": "code",
   "execution_count": 11,
   "metadata": {},
   "outputs": [
    {
     "data": {
      "text/html": [
       "<div>\n",
       "<style scoped>\n",
       "    .dataframe tbody tr th:only-of-type {\n",
       "        vertical-align: middle;\n",
       "    }\n",
       "\n",
       "    .dataframe tbody tr th {\n",
       "        vertical-align: top;\n",
       "    }\n",
       "\n",
       "    .dataframe thead th {\n",
       "        text-align: right;\n",
       "    }\n",
       "</style>\n",
       "<table border=\"1\" class=\"dataframe\">\n",
       "  <thead>\n",
       "    <tr style=\"text-align: right;\">\n",
       "      <th></th>\n",
       "      <th>name</th>\n",
       "      <th>star</th>\n",
       "      <th>date</th>\n",
       "      <th>mall</th>\n",
       "      <th>id</th>\n",
       "      <th>title</th>\n",
       "      <th>content</th>\n",
       "    </tr>\n",
       "  </thead>\n",
       "  <tbody>\n",
       "    <tr>\n",
       "      <th>14925</th>\n",
       "      <td>메델라 퀵클린 마이크로 스팀백 5매</td>\n",
       "      <td>100점</td>\n",
       "      <td>2017.07.17</td>\n",
       "      <td>11번가</td>\n",
       "      <td>dm****</td>\n",
       "      <td>최고예요</td>\n",
       "      <td>휴가철에 놀러가서 쓰려고 주문했어요 ㅎㅎ간편하도 좋네요</td>\n",
       "    </tr>\n",
       "    <tr>\n",
       "      <th>14926</th>\n",
       "      <td>메델라 퀵클린 마이크로 스팀백 5매</td>\n",
       "      <td>80점</td>\n",
       "      <td>2016.05.16</td>\n",
       "      <td>11번가</td>\n",
       "      <td>hi****</td>\n",
       "      <td>좋아요!마음에들어요~</td>\n",
       "      <td>놀러갈때 쓰기 딱 좋아영~~</td>\n",
       "    </tr>\n",
       "    <tr>\n",
       "      <th>14927</th>\n",
       "      <td>한일전기 한일 젖병 소독기 HBS-900</td>\n",
       "      <td>100점</td>\n",
       "      <td>2019.02.19</td>\n",
       "      <td>G마켓</td>\n",
       "      <td>qu****</td>\n",
       "      <td>잘쓰고있어요</td>\n",
       "      <td>소독할게 많은데 유용하게 잘 쓰고 있어요젖병소독용이라 그런지 좀더 안전하다는 느낌이...</td>\n",
       "    </tr>\n",
       "    <tr>\n",
       "      <th>14928</th>\n",
       "      <td>한일전기 한일 젖병 소독기 HBS-900</td>\n",
       "      <td>100점</td>\n",
       "      <td>2018.06.09</td>\n",
       "      <td>SSG.COM</td>\n",
       "      <td>ja****</td>\n",
       "      <td>저렴하게구매했습니다</td>\n",
       "      <td>저렴하게구매했습니다</td>\n",
       "    </tr>\n",
       "    <tr>\n",
       "      <th>14929</th>\n",
       "      <td>한일전기 한일 젖병 소독기 HBS-900</td>\n",
       "      <td>40점</td>\n",
       "      <td>2018.06.09</td>\n",
       "      <td>11번가</td>\n",
       "      <td>ru****</td>\n",
       "      <td>별로예요</td>\n",
       "      <td>상품은 좋은ㄷㅔ 물건을 받을때 까지 속 좀 썩네요말도없이 무기한 상품 준비중에 송장...</td>\n",
       "    </tr>\n",
       "  </tbody>\n",
       "</table>\n",
       "</div>"
      ],
      "text/plain": [
       "                         name  star        date     mall      id        title  \\\n",
       "14925     메델라 퀵클린 마이크로 스팀백 5매  100점  2017.07.17     11번가  dm****         최고예요   \n",
       "14926     메델라 퀵클린 마이크로 스팀백 5매   80점  2016.05.16     11번가  hi****  좋아요!마음에들어요~   \n",
       "14927  한일전기 한일 젖병 소독기 HBS-900  100점  2019.02.19      G마켓  qu****       잘쓰고있어요   \n",
       "14928  한일전기 한일 젖병 소독기 HBS-900  100점  2018.06.09  SSG.COM  ja****   저렴하게구매했습니다   \n",
       "14929  한일전기 한일 젖병 소독기 HBS-900   40점  2018.06.09     11번가  ru****         별로예요   \n",
       "\n",
       "                                                 content  \n",
       "14925                     휴가철에 놀러가서 쓰려고 주문했어요 ㅎㅎ간편하도 좋네요  \n",
       "14926                                    놀러갈때 쓰기 딱 좋아영~~  \n",
       "14927  소독할게 많은데 유용하게 잘 쓰고 있어요젖병소독용이라 그런지 좀더 안전하다는 느낌이...  \n",
       "14928                                         저렴하게구매했습니다  \n",
       "14929  상품은 좋은ㄷㅔ 물건을 받을때 까지 속 좀 썩네요말도없이 무기한 상품 준비중에 송장...  "
      ]
     },
     "execution_count": 11,
     "metadata": {},
     "output_type": "execute_result"
    }
   ],
   "source": [
    "reviews = pd.DataFrame(reviews)\n",
    "reviews.tail()"
   ]
  },
  {
   "cell_type": "code",
   "execution_count": 12,
   "metadata": {},
   "outputs": [
    {
     "data": {
      "text/plain": [
       "(14930, 7)"
      ]
     },
     "execution_count": 12,
     "metadata": {},
     "output_type": "execute_result"
    }
   ],
   "source": [
    "#데이터 크기\n",
    "reviews.shape"
   ]
  },
  {
   "cell_type": "code",
   "execution_count": 17,
   "metadata": {},
   "outputs": [],
   "source": [
    "#csv로 저장\n",
    "reviews.to_csv('danawa_reviews.csv')"
   ]
  }
 ],
 "metadata": {
  "kernelspec": {
   "display_name": "Python 3",
   "language": "python",
   "name": "python3"
  },
  "language_info": {
   "codemirror_mode": {
    "name": "ipython",
    "version": 3
   },
   "file_extension": ".py",
   "mimetype": "text/x-python",
   "name": "python",
   "nbconvert_exporter": "python",
   "pygments_lexer": "ipython3",
   "version": "3.7.6"
  }
 },
 "nbformat": 4,
 "nbformat_minor": 2
}
